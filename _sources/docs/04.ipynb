{
 "cells": [
  {
   "cell_type": "markdown",
   "metadata": {},
   "source": [
    "# 활용부\n",
    "- 본 자료는 가짜연구소 3기 PyTorch 가이드 활동으로 작성되었습니다.\n",
    "\n",
    "---"
   ]
  },
  {
   "cell_type": "markdown",
   "metadata": {},
   "source": [
    "# Page List\n",
    "\n",
    "- *이하 내용은 예시 입니다.*\n",
    "- 활용부 에서는 PyTorch 로 구현된 네트워크 코드에 대한 설명과 PyTorch 기초부에서 다루었던 내용이 어떻게 적용되는지에 대해 설명합니다.\n",
    "- Page 는 다음과 같이 구성됩니다.\n",
    "\n",
    "| Index | Chapter | Topic | Page              | 담당자                                                       | 작성일  |\n",
    "| ----- | ------- | ----- | ----------------- | ------------------------------------------------------------ | ------- |\n",
    "| 04-1  | 활용부  | -     | Fine-tuning       | [이유진](https://github.com/eugene9212) [권지현](https://github.com/Jihyun22) | 2021.09 |\n",
    "| 04-2  | 활용부  | -     | Parameters-tuning | [이유진](https://github.com/eugene9212) [권지현](https://github.com/Jihyun22) | 2021.09 |\n",
    "\n",
    "\n",
    "\n",
    "\n",
    "\n",
    "\n",
    "---"
   ]
  },
  {
   "cell_type": "markdown",
   "metadata": {},
   "source": [
    "# Reference\n",
    "\n",
    "- 추가 예정.\n",
    "\n",
    "---"
   ]
  },
  {
   "cell_type": "code",
   "execution_count": null,
   "metadata": {},
   "outputs": [],
   "source": []
  }
 ],
 "metadata": {
  "kernelspec": {
   "display_name": "Python 3",
   "language": "python",
   "name": "python3"
  },
  "language_info": {
   "codemirror_mode": {
    "name": "ipython",
    "version": 3
   },
   "file_extension": ".py",
   "mimetype": "text/x-python",
   "name": "python",
   "nbconvert_exporter": "python",
   "pygments_lexer": "ipython3",
   "version": "3.7.9"
  }
 },
 "nbformat": 4,
 "nbformat_minor": 4
}
