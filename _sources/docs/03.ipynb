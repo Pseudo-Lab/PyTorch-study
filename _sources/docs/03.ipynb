{
 "cells": [
  {
   "cell_type": "markdown",
   "metadata": {},
   "source": [
    "# 적용부\n",
    "- 본 자료는 가짜연구소 3기 PyTorch 가이드 활동으로 작성되었습니다.\n",
    "\n",
    "---"
   ]
  },
  {
   "cell_type": "markdown",
   "metadata": {},
   "source": [
    "# Page List\n",
    "\n",
    "- *이하 내용은 예시 입니다.*\n",
    "- 적용부 에서는 PyTorch 로 구현된 네트워크 코드에 대한 설명과 PyTorch 기초부에서 다루었던 내용이 어떻게 사용되는지에 대해 설명합니다.\n",
    "- Page 는 다음과 같이 구성됩니다.\n",
    "\n",
    "| Index | Chapter | Topic | Page    | 담당자                                  | 작성일  |\n",
    "| ----- | ------- | ----- | ------- | --------------------------------------- | ------- |\n",
    "| 03-1  | 적용부  | CNN   | ResNet  | [이유진](https://github.com/eugene9212) | 2021.09 |\n",
    "| 03-2  | 적용부  | CNN   | ResNext | [이유진](https://github.com/eugene9212) | 2021.09 |\n",
    "\n",
    "\n",
    "\n",
    "\n",
    "---"
   ]
  },
  {
   "cell_type": "markdown",
   "metadata": {},
   "source": [
    "# Reference\n",
    "\n",
    "- 추가 예정.\n",
    "\n",
    "---"
   ]
  },
  {
   "cell_type": "code",
   "execution_count": null,
   "metadata": {},
   "outputs": [],
   "source": []
  }
 ],
 "metadata": {
  "kernelspec": {
   "display_name": "Python 3",
   "language": "python",
   "name": "python3"
  },
  "language_info": {
   "codemirror_mode": {
    "name": "ipython",
    "version": 3
   },
   "file_extension": ".py",
   "mimetype": "text/x-python",
   "name": "python",
   "nbconvert_exporter": "python",
   "pygments_lexer": "ipython3",
   "version": "3.7.9"
  }
 },
 "nbformat": 4,
 "nbformat_minor": 4
}
