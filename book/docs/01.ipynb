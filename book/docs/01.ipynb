{
 "cells": [
  {
   "cell_type": "markdown",
   "metadata": {},
   "source": [
    "# 기초부\n",
    "- 본 자료는 가짜연구소 3기 PyTorch 가이드 활동으로 작성되었습니다.\n",
    "\n",
    "---"
   ]
  },
  {
   "cell_type": "markdown",
   "metadata": {},
   "source": [
    "# Page List\n",
    "\n",
    "- 기초부 에서는 PyTorch 에 대해 `Tensor`, `Data`, `Model` 3가지 Topic 에 대해 정리하며, 이후 챕터인 *네트워크 코드부*, *활용부*에서 다룰 기초적인 내용을 수록하고 있습니다.\n",
    "- Page 는 다음과 같이 구성됩니다.\n",
    "\n",
    "| Index  | Chapter | Topic  | Page              | 담당자                                | 작성일  |\n",
    "| ------ | ------- | ------ | ----------------- | ------------------------------------- | ------- |\n",
    "| 01-1-1 | 기초부  | Tensor | Tensor Allocation | [권지현](https://github.com/Jihyun22) | 2021.09 |\n",
    "| 01-1-2 | 기초부  | Tensor | Tensor Operation  | [권지현](https://github.com/Jihyun22) | 2021.09 |\n",
    "| 01-2-1 | 기초부  | Data   | Data Set          | [권지현](https://github.com/Jihyun22) | 2021.09 |\n",
    "| 01-2-2 | 기초부  | Data   | Data Load         | [권지현](https://github.com/Jihyun22) | 2021.09 |\n",
    "| 01-2-3 | 기초부  | Data   | Data Argument     | [권지현](https://github.com/Jihyun22) | 2021.09 |\n",
    "| 01-3-1 | 기초부  | Model  | Model Layer       | [권지현](https://github.com/Jihyun22) | 2021.09 |\n",
    "| 01-3-2 | 기초부  | Model  | Model Parameters  | [권지현](https://github.com/Jihyun22) | 2021.09 |\n",
    "\n",
    "\n",
    "\n",
    "\n",
    "---"
   ]
  },
  {
   "cell_type": "markdown",
   "metadata": {},
   "source": [
    "# Reference\n",
    "\n",
    "- 추가 예정.\n",
    "\n",
    "---"
   ]
  },
  {
   "cell_type": "code",
   "execution_count": null,
   "metadata": {},
   "outputs": [],
   "source": []
  }
 ],
 "metadata": {
  "kernelspec": {
   "display_name": "Python 3",
   "language": "python",
   "name": "python3"
  },
  "language_info": {
   "codemirror_mode": {
    "name": "ipython",
    "version": 3
   },
   "file_extension": ".py",
   "mimetype": "text/x-python",
   "name": "python",
   "nbconvert_exporter": "python",
   "pygments_lexer": "ipython3",
   "version": "3.7.9"
  }
 },
 "nbformat": 4,
 "nbformat_minor": 4
}
