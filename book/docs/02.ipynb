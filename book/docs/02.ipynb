{
 "cells": [
  {
   "cell_type": "markdown",
   "metadata": {},
   "source": [
    "# 이론부\n",
    "- 본 자료는 가짜연구소 3기 PyTorch 가이드 활동으로 작성되었습니다.\n",
    "\n",
    "---"
   ]
  },
  {
   "cell_type": "markdown",
   "metadata": {},
   "source": [
    "# Page List\n",
    "\n",
    "- *이하 내용은 예시 입니다.*\n",
    "- 이론부 에서는 신경망 네트워크에 대한 개념 및 구조 등에 대한 이론적인 내용을 설명합니다.\n",
    "- Page 는 다음과 같이 구성됩니다.\n",
    "\n",
    "| Index | Chapter | Topic | Page        | 담당자                                  | 작성일  |\n",
    "| ----- | ------- | ----- | ----------- | --------------------------------------- | ------- |\n",
    "| 02-1  | 이론부  | CNN   | ResNet      | [유승민](https://github.com/Seungmin-U) | 2021.09 |\n",
    "| 02-2  | 이론부  | CNN   | ResNext     | [유승민](https://github.com/Seungmin-U) | 2021.09 |\n",
    "| 02-3  | 이론부  | CNN   | Wide-ResNet | [유승민](https://github.com/Seungmin-U) | 2021.09 |\n",
    "\n",
    "\n",
    "\n",
    "\n",
    "---"
   ]
  },
  {
   "cell_type": "markdown",
   "metadata": {},
   "source": [
    "# Reference\n",
    "\n",
    "- 추가 예정.\n",
    "\n",
    "---"
   ]
  },
  {
   "cell_type": "code",
   "execution_count": null,
   "metadata": {},
   "outputs": [],
   "source": []
  }
 ],
 "metadata": {
  "kernelspec": {
   "display_name": "Python 3",
   "language": "python",
   "name": "python3"
  },
  "language_info": {
   "codemirror_mode": {
    "name": "ipython",
    "version": 3
   },
   "file_extension": ".py",
   "mimetype": "text/x-python",
   "name": "python",
   "nbconvert_exporter": "python",
   "pygments_lexer": "ipython3",
   "version": "3.7.9"
  }
 },
 "nbformat": 4,
 "nbformat_minor": 4
}
